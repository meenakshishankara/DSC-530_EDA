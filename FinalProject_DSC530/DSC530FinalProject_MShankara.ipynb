{
 "cells": [
  {
   "cell_type": "markdown",
   "id": "dd0f59a3",
   "metadata": {},
   "source": [
    "## DSC 530 - FINAL PROJECT\n",
    "### Submitted by : Meenakshi Shankara"
   ]
  },
  {
   "cell_type": "code",
   "execution_count": 1,
   "id": "2bb3a486",
   "metadata": {},
   "outputs": [
    {
     "name": "stdout",
     "output_type": "stream",
     "text": [
      "                      Country  Happiness.Rank  Happiness.Score  Whisker.high  \\\n",
      "0                      Norway               1            7.537      7.594445   \n",
      "1                     Denmark               2            7.522      7.581728   \n",
      "2                     Iceland               3            7.504      7.622030   \n",
      "3                 Switzerland               4            7.494      7.561772   \n",
      "4                     Finland               5            7.469      7.527542   \n",
      "..                        ...             ...              ...           ...   \n",
      "150                    Rwanda             151            3.471      3.543030   \n",
      "151                     Syria             152            3.462      3.663669   \n",
      "152                  Tanzania             153            3.349      3.461430   \n",
      "153                   Burundi             154            2.905      3.074690   \n",
      "154  Central African Republic             155            2.693      2.864884   \n",
      "\n",
      "     Whisker.low  Economy..GDP.per.Capita.    Family  \\\n",
      "0       7.479556                  1.616463  1.533524   \n",
      "1       7.462272                  1.482383  1.551122   \n",
      "2       7.385970                  1.480633  1.610574   \n",
      "3       7.426227                  1.564980  1.516912   \n",
      "4       7.410458                  1.443572  1.540247   \n",
      "..           ...                       ...       ...   \n",
      "150     3.398970                  0.368746  0.945707   \n",
      "151     3.260331                  0.777153  0.396103   \n",
      "152     3.236570                  0.511136  1.041990   \n",
      "153     2.735310                  0.091623  0.629794   \n",
      "154     2.521116                  0.000000  0.000000   \n",
      "\n",
      "     Health..Life.Expectancy.   Freedom  Generosity  \\\n",
      "0                    0.796667  0.635423    0.362012   \n",
      "1                    0.792566  0.626007    0.355280   \n",
      "2                    0.833552  0.627163    0.475540   \n",
      "3                    0.858131  0.620071    0.290549   \n",
      "4                    0.809158  0.617951    0.245483   \n",
      "..                        ...       ...         ...   \n",
      "150                  0.326425  0.581844    0.252756   \n",
      "151                  0.500533  0.081539    0.493664   \n",
      "152                  0.364509  0.390018    0.354256   \n",
      "153                  0.151611  0.059901    0.204435   \n",
      "154                  0.018773  0.270842    0.280876   \n",
      "\n",
      "     Trust..Government.Corruption.  Dystopia.Residual  \n",
      "0                         0.315964           2.277027  \n",
      "1                         0.400770           2.313707  \n",
      "2                         0.153527           2.322715  \n",
      "3                         0.367007           2.276716  \n",
      "4                         0.382612           2.430182  \n",
      "..                             ...                ...  \n",
      "150                       0.455220           0.540061  \n",
      "151                       0.151347           1.061574  \n",
      "152                       0.066035           0.621130  \n",
      "153                       0.084148           1.683024  \n",
      "154                       0.056565           2.066005  \n",
      "\n",
      "[155 rows x 12 columns]\n"
     ]
    },
    {
     "data": {
      "text/plain": [
       "(155, 12)"
      ]
     },
     "execution_count": 1,
     "metadata": {},
     "output_type": "execute_result"
    }
   ],
   "source": [
    "import pandas as pd\n",
    "import numpy as np\n",
    "import thinkstats2\n",
    "import thinkplot\n",
    "\n",
    "    \n",
    "happy2017_df = pd.read_csv(\"C:/Users/meena/Downloads/ThinkStats2-master/code/FinalProject_DSC530/2017.csv\")\n",
    "print(happy2017_df)\n",
    "happy2017_df.shape"
   ]
  },
  {
   "cell_type": "code",
   "execution_count": 2,
   "id": "587c8517",
   "metadata": {},
   "outputs": [
    {
     "data": {
      "text/html": [
       "<div>\n",
       "<style scoped>\n",
       "    .dataframe tbody tr th:only-of-type {\n",
       "        vertical-align: middle;\n",
       "    }\n",
       "\n",
       "    .dataframe tbody tr th {\n",
       "        vertical-align: top;\n",
       "    }\n",
       "\n",
       "    .dataframe thead th {\n",
       "        text-align: right;\n",
       "    }\n",
       "</style>\n",
       "<table border=\"1\" class=\"dataframe\">\n",
       "  <thead>\n",
       "    <tr style=\"text-align: right;\">\n",
       "      <th></th>\n",
       "      <th>Country</th>\n",
       "      <th>Happiness.Rank</th>\n",
       "      <th>Happiness.Score</th>\n",
       "      <th>Whisker.high</th>\n",
       "      <th>Whisker.low</th>\n",
       "      <th>Economy..GDP.per.Capita.</th>\n",
       "      <th>Family</th>\n",
       "      <th>Health..Life.Expectancy.</th>\n",
       "      <th>Freedom</th>\n",
       "      <th>Generosity</th>\n",
       "      <th>Trust..Government.Corruption.</th>\n",
       "      <th>Dystopia.Residual</th>\n",
       "    </tr>\n",
       "  </thead>\n",
       "  <tbody>\n",
       "    <tr>\n",
       "      <th>0</th>\n",
       "      <td>Norway</td>\n",
       "      <td>1</td>\n",
       "      <td>7.537</td>\n",
       "      <td>7.594445</td>\n",
       "      <td>7.479556</td>\n",
       "      <td>1.616463</td>\n",
       "      <td>1.533524</td>\n",
       "      <td>0.796667</td>\n",
       "      <td>0.635423</td>\n",
       "      <td>0.362012</td>\n",
       "      <td>0.315964</td>\n",
       "      <td>2.277027</td>\n",
       "    </tr>\n",
       "    <tr>\n",
       "      <th>1</th>\n",
       "      <td>Denmark</td>\n",
       "      <td>2</td>\n",
       "      <td>7.522</td>\n",
       "      <td>7.581728</td>\n",
       "      <td>7.462272</td>\n",
       "      <td>1.482383</td>\n",
       "      <td>1.551122</td>\n",
       "      <td>0.792566</td>\n",
       "      <td>0.626007</td>\n",
       "      <td>0.355280</td>\n",
       "      <td>0.400770</td>\n",
       "      <td>2.313707</td>\n",
       "    </tr>\n",
       "    <tr>\n",
       "      <th>2</th>\n",
       "      <td>Iceland</td>\n",
       "      <td>3</td>\n",
       "      <td>7.504</td>\n",
       "      <td>7.622030</td>\n",
       "      <td>7.385970</td>\n",
       "      <td>1.480633</td>\n",
       "      <td>1.610574</td>\n",
       "      <td>0.833552</td>\n",
       "      <td>0.627163</td>\n",
       "      <td>0.475540</td>\n",
       "      <td>0.153527</td>\n",
       "      <td>2.322715</td>\n",
       "    </tr>\n",
       "    <tr>\n",
       "      <th>3</th>\n",
       "      <td>Switzerland</td>\n",
       "      <td>4</td>\n",
       "      <td>7.494</td>\n",
       "      <td>7.561772</td>\n",
       "      <td>7.426227</td>\n",
       "      <td>1.564980</td>\n",
       "      <td>1.516912</td>\n",
       "      <td>0.858131</td>\n",
       "      <td>0.620071</td>\n",
       "      <td>0.290549</td>\n",
       "      <td>0.367007</td>\n",
       "      <td>2.276716</td>\n",
       "    </tr>\n",
       "    <tr>\n",
       "      <th>4</th>\n",
       "      <td>Finland</td>\n",
       "      <td>5</td>\n",
       "      <td>7.469</td>\n",
       "      <td>7.527542</td>\n",
       "      <td>7.410458</td>\n",
       "      <td>1.443572</td>\n",
       "      <td>1.540247</td>\n",
       "      <td>0.809158</td>\n",
       "      <td>0.617951</td>\n",
       "      <td>0.245483</td>\n",
       "      <td>0.382612</td>\n",
       "      <td>2.430182</td>\n",
       "    </tr>\n",
       "  </tbody>\n",
       "</table>\n",
       "</div>"
      ],
      "text/plain": [
       "       Country  Happiness.Rank  Happiness.Score  Whisker.high  Whisker.low  \\\n",
       "0       Norway               1            7.537      7.594445     7.479556   \n",
       "1      Denmark               2            7.522      7.581728     7.462272   \n",
       "2      Iceland               3            7.504      7.622030     7.385970   \n",
       "3  Switzerland               4            7.494      7.561772     7.426227   \n",
       "4      Finland               5            7.469      7.527542     7.410458   \n",
       "\n",
       "   Economy..GDP.per.Capita.    Family  Health..Life.Expectancy.   Freedom  \\\n",
       "0                  1.616463  1.533524                  0.796667  0.635423   \n",
       "1                  1.482383  1.551122                  0.792566  0.626007   \n",
       "2                  1.480633  1.610574                  0.833552  0.627163   \n",
       "3                  1.564980  1.516912                  0.858131  0.620071   \n",
       "4                  1.443572  1.540247                  0.809158  0.617951   \n",
       "\n",
       "   Generosity  Trust..Government.Corruption.  Dystopia.Residual  \n",
       "0    0.362012                       0.315964           2.277027  \n",
       "1    0.355280                       0.400770           2.313707  \n",
       "2    0.475540                       0.153527           2.322715  \n",
       "3    0.290549                       0.367007           2.276716  \n",
       "4    0.245483                       0.382612           2.430182  "
      ]
     },
     "execution_count": 2,
     "metadata": {},
     "output_type": "execute_result"
    }
   ],
   "source": [
    "happy2017_df.head()"
   ]
  },
  {
   "cell_type": "code",
   "execution_count": 3,
   "id": "e14ce1d4",
   "metadata": {},
   "outputs": [
    {
     "data": {
      "text/html": [
       "<div>\n",
       "<style scoped>\n",
       "    .dataframe tbody tr th:only-of-type {\n",
       "        vertical-align: middle;\n",
       "    }\n",
       "\n",
       "    .dataframe tbody tr th {\n",
       "        vertical-align: top;\n",
       "    }\n",
       "\n",
       "    .dataframe thead th {\n",
       "        text-align: right;\n",
       "    }\n",
       "</style>\n",
       "<table border=\"1\" class=\"dataframe\">\n",
       "  <thead>\n",
       "    <tr style=\"text-align: right;\">\n",
       "      <th></th>\n",
       "      <th>count</th>\n",
       "      <th>mean</th>\n",
       "      <th>std</th>\n",
       "      <th>min</th>\n",
       "      <th>25%</th>\n",
       "      <th>50%</th>\n",
       "      <th>75%</th>\n",
       "      <th>max</th>\n",
       "    </tr>\n",
       "  </thead>\n",
       "  <tbody>\n",
       "    <tr>\n",
       "      <th>Happiness.Rank</th>\n",
       "      <td>155.0</td>\n",
       "      <td>78.000000</td>\n",
       "      <td>44.888751</td>\n",
       "      <td>1.000000</td>\n",
       "      <td>39.500000</td>\n",
       "      <td>78.000000</td>\n",
       "      <td>116.500000</td>\n",
       "      <td>155.000000</td>\n",
       "    </tr>\n",
       "    <tr>\n",
       "      <th>Happiness.Score</th>\n",
       "      <td>155.0</td>\n",
       "      <td>5.354019</td>\n",
       "      <td>1.131230</td>\n",
       "      <td>2.693000</td>\n",
       "      <td>4.505500</td>\n",
       "      <td>5.279000</td>\n",
       "      <td>6.101500</td>\n",
       "      <td>7.537000</td>\n",
       "    </tr>\n",
       "    <tr>\n",
       "      <th>Whisker.high</th>\n",
       "      <td>155.0</td>\n",
       "      <td>5.452326</td>\n",
       "      <td>1.118542</td>\n",
       "      <td>2.864884</td>\n",
       "      <td>4.608172</td>\n",
       "      <td>5.370032</td>\n",
       "      <td>6.194600</td>\n",
       "      <td>7.622030</td>\n",
       "    </tr>\n",
       "    <tr>\n",
       "      <th>Whisker.low</th>\n",
       "      <td>155.0</td>\n",
       "      <td>5.255713</td>\n",
       "      <td>1.145030</td>\n",
       "      <td>2.521116</td>\n",
       "      <td>4.374955</td>\n",
       "      <td>5.193152</td>\n",
       "      <td>6.006527</td>\n",
       "      <td>7.479556</td>\n",
       "    </tr>\n",
       "    <tr>\n",
       "      <th>Economy..GDP.per.Capita.</th>\n",
       "      <td>155.0</td>\n",
       "      <td>0.984718</td>\n",
       "      <td>0.420793</td>\n",
       "      <td>0.000000</td>\n",
       "      <td>0.663371</td>\n",
       "      <td>1.064578</td>\n",
       "      <td>1.318027</td>\n",
       "      <td>1.870766</td>\n",
       "    </tr>\n",
       "    <tr>\n",
       "      <th>Family</th>\n",
       "      <td>155.0</td>\n",
       "      <td>1.188898</td>\n",
       "      <td>0.287263</td>\n",
       "      <td>0.000000</td>\n",
       "      <td>1.042635</td>\n",
       "      <td>1.253918</td>\n",
       "      <td>1.414316</td>\n",
       "      <td>1.610574</td>\n",
       "    </tr>\n",
       "    <tr>\n",
       "      <th>Health..Life.Expectancy.</th>\n",
       "      <td>155.0</td>\n",
       "      <td>0.551341</td>\n",
       "      <td>0.237073</td>\n",
       "      <td>0.000000</td>\n",
       "      <td>0.369866</td>\n",
       "      <td>0.606042</td>\n",
       "      <td>0.723008</td>\n",
       "      <td>0.949492</td>\n",
       "    </tr>\n",
       "    <tr>\n",
       "      <th>Freedom</th>\n",
       "      <td>155.0</td>\n",
       "      <td>0.408786</td>\n",
       "      <td>0.149997</td>\n",
       "      <td>0.000000</td>\n",
       "      <td>0.303677</td>\n",
       "      <td>0.437454</td>\n",
       "      <td>0.516561</td>\n",
       "      <td>0.658249</td>\n",
       "    </tr>\n",
       "    <tr>\n",
       "      <th>Generosity</th>\n",
       "      <td>155.0</td>\n",
       "      <td>0.246883</td>\n",
       "      <td>0.134780</td>\n",
       "      <td>0.000000</td>\n",
       "      <td>0.154106</td>\n",
       "      <td>0.231538</td>\n",
       "      <td>0.323762</td>\n",
       "      <td>0.838075</td>\n",
       "    </tr>\n",
       "    <tr>\n",
       "      <th>Trust..Government.Corruption.</th>\n",
       "      <td>155.0</td>\n",
       "      <td>0.123120</td>\n",
       "      <td>0.101661</td>\n",
       "      <td>0.000000</td>\n",
       "      <td>0.057271</td>\n",
       "      <td>0.089848</td>\n",
       "      <td>0.153296</td>\n",
       "      <td>0.464308</td>\n",
       "    </tr>\n",
       "    <tr>\n",
       "      <th>Dystopia.Residual</th>\n",
       "      <td>155.0</td>\n",
       "      <td>1.850238</td>\n",
       "      <td>0.500028</td>\n",
       "      <td>0.377914</td>\n",
       "      <td>1.591291</td>\n",
       "      <td>1.832910</td>\n",
       "      <td>2.144654</td>\n",
       "      <td>3.117485</td>\n",
       "    </tr>\n",
       "  </tbody>\n",
       "</table>\n",
       "</div>"
      ],
      "text/plain": [
       "                               count       mean        std       min  \\\n",
       "Happiness.Rank                 155.0  78.000000  44.888751  1.000000   \n",
       "Happiness.Score                155.0   5.354019   1.131230  2.693000   \n",
       "Whisker.high                   155.0   5.452326   1.118542  2.864884   \n",
       "Whisker.low                    155.0   5.255713   1.145030  2.521116   \n",
       "Economy..GDP.per.Capita.       155.0   0.984718   0.420793  0.000000   \n",
       "Family                         155.0   1.188898   0.287263  0.000000   \n",
       "Health..Life.Expectancy.       155.0   0.551341   0.237073  0.000000   \n",
       "Freedom                        155.0   0.408786   0.149997  0.000000   \n",
       "Generosity                     155.0   0.246883   0.134780  0.000000   \n",
       "Trust..Government.Corruption.  155.0   0.123120   0.101661  0.000000   \n",
       "Dystopia.Residual              155.0   1.850238   0.500028  0.377914   \n",
       "\n",
       "                                     25%        50%         75%         max  \n",
       "Happiness.Rank                 39.500000  78.000000  116.500000  155.000000  \n",
       "Happiness.Score                 4.505500   5.279000    6.101500    7.537000  \n",
       "Whisker.high                    4.608172   5.370032    6.194600    7.622030  \n",
       "Whisker.low                     4.374955   5.193152    6.006527    7.479556  \n",
       "Economy..GDP.per.Capita.        0.663371   1.064578    1.318027    1.870766  \n",
       "Family                          1.042635   1.253918    1.414316    1.610574  \n",
       "Health..Life.Expectancy.        0.369866   0.606042    0.723008    0.949492  \n",
       "Freedom                         0.303677   0.437454    0.516561    0.658249  \n",
       "Generosity                      0.154106   0.231538    0.323762    0.838075  \n",
       "Trust..Government.Corruption.   0.057271   0.089848    0.153296    0.464308  \n",
       "Dystopia.Residual               1.591291   1.832910    2.144654    3.117485  "
      ]
     },
     "execution_count": 3,
     "metadata": {},
     "output_type": "execute_result"
    }
   ],
   "source": [
    "happy2017_df.describe().T"
   ]
  },
  {
   "cell_type": "code",
   "execution_count": 4,
   "id": "d9731f03",
   "metadata": {},
   "outputs": [
    {
     "name": "stdout",
     "output_type": "stream",
     "text": [
      "Happiest: 13\n",
      "Happy: 32\n",
      "The Rest: 110\n",
      "Total: 155\n"
     ]
    },
    {
     "name": "stderr",
     "output_type": "stream",
     "text": [
      "<ipython-input-4-aa0f9d2e9dae>:1: FutureWarning: The default value of regex will change from True to False in a future version. In addition, single character regular expressions will*not* be treated as literal strings when regex=True.\n",
      "  happy2017_df.columns = happy2017_df.columns.str.replace('.','_')\n"
     ]
    }
   ],
   "source": [
    "happy2017_df.columns = happy2017_df.columns.str.replace('.','_')\n",
    "happy2017_df.describe().T\n",
    "happiest = happy2017_df[happy2017_df.Happiness_Score >=7]\n",
    "happy = happy2017_df[(happy2017_df.Happiness_Score >= 6) & (happy2017_df.Happiness_Score < 7)]\n",
    "rest = happy2017_df[(happy2017_df.Happiness_Score < 6)]\n",
    "print(\"Happiest:\", len(happiest))\n",
    "print(\"Happy:\", len(happy))\n",
    "print(\"The Rest:\", len(rest))\n",
    "print(\"Total:\", len(happy2017_df))"
   ]
  },
  {
   "cell_type": "code",
   "execution_count": 5,
   "id": "336df82f",
   "metadata": {},
   "outputs": [
    {
     "data": {
      "text/html": [
       "<div>\n",
       "<style scoped>\n",
       "    .dataframe tbody tr th:only-of-type {\n",
       "        vertical-align: middle;\n",
       "    }\n",
       "\n",
       "    .dataframe tbody tr th {\n",
       "        vertical-align: top;\n",
       "    }\n",
       "\n",
       "    .dataframe thead th {\n",
       "        text-align: right;\n",
       "    }\n",
       "</style>\n",
       "<table border=\"1\" class=\"dataframe\">\n",
       "  <thead>\n",
       "    <tr style=\"text-align: right;\">\n",
       "      <th></th>\n",
       "      <th>Country</th>\n",
       "      <th>Happiness_Rank</th>\n",
       "      <th>Happiness_Score</th>\n",
       "      <th>Whisker_high</th>\n",
       "      <th>Whisker_low</th>\n",
       "      <th>Economy__GDP_per_Capita_</th>\n",
       "      <th>Family</th>\n",
       "      <th>Health__Life_Expectancy_</th>\n",
       "      <th>Freedom</th>\n",
       "      <th>Generosity</th>\n",
       "      <th>Trust__Government_Corruption_</th>\n",
       "      <th>Dystopia_Residual</th>\n",
       "    </tr>\n",
       "  </thead>\n",
       "  <tbody>\n",
       "    <tr>\n",
       "      <th>0</th>\n",
       "      <td>Norway</td>\n",
       "      <td>1</td>\n",
       "      <td>7.537</td>\n",
       "      <td>7.594445</td>\n",
       "      <td>7.479556</td>\n",
       "      <td>1.616463</td>\n",
       "      <td>1.533524</td>\n",
       "      <td>0.796667</td>\n",
       "      <td>0.635423</td>\n",
       "      <td>0.362012</td>\n",
       "      <td>0.315964</td>\n",
       "      <td>2.277027</td>\n",
       "    </tr>\n",
       "    <tr>\n",
       "      <th>1</th>\n",
       "      <td>Denmark</td>\n",
       "      <td>2</td>\n",
       "      <td>7.522</td>\n",
       "      <td>7.581728</td>\n",
       "      <td>7.462272</td>\n",
       "      <td>1.482383</td>\n",
       "      <td>1.551122</td>\n",
       "      <td>0.792566</td>\n",
       "      <td>0.626007</td>\n",
       "      <td>0.355280</td>\n",
       "      <td>0.400770</td>\n",
       "      <td>2.313707</td>\n",
       "    </tr>\n",
       "    <tr>\n",
       "      <th>2</th>\n",
       "      <td>Iceland</td>\n",
       "      <td>3</td>\n",
       "      <td>7.504</td>\n",
       "      <td>7.622030</td>\n",
       "      <td>7.385970</td>\n",
       "      <td>1.480633</td>\n",
       "      <td>1.610574</td>\n",
       "      <td>0.833552</td>\n",
       "      <td>0.627163</td>\n",
       "      <td>0.475540</td>\n",
       "      <td>0.153527</td>\n",
       "      <td>2.322715</td>\n",
       "    </tr>\n",
       "    <tr>\n",
       "      <th>3</th>\n",
       "      <td>Switzerland</td>\n",
       "      <td>4</td>\n",
       "      <td>7.494</td>\n",
       "      <td>7.561772</td>\n",
       "      <td>7.426227</td>\n",
       "      <td>1.564980</td>\n",
       "      <td>1.516912</td>\n",
       "      <td>0.858131</td>\n",
       "      <td>0.620071</td>\n",
       "      <td>0.290549</td>\n",
       "      <td>0.367007</td>\n",
       "      <td>2.276716</td>\n",
       "    </tr>\n",
       "    <tr>\n",
       "      <th>4</th>\n",
       "      <td>Finland</td>\n",
       "      <td>5</td>\n",
       "      <td>7.469</td>\n",
       "      <td>7.527542</td>\n",
       "      <td>7.410458</td>\n",
       "      <td>1.443572</td>\n",
       "      <td>1.540247</td>\n",
       "      <td>0.809158</td>\n",
       "      <td>0.617951</td>\n",
       "      <td>0.245483</td>\n",
       "      <td>0.382612</td>\n",
       "      <td>2.430182</td>\n",
       "    </tr>\n",
       "  </tbody>\n",
       "</table>\n",
       "</div>"
      ],
      "text/plain": [
       "       Country  Happiness_Rank  Happiness_Score  Whisker_high  Whisker_low  \\\n",
       "0       Norway               1            7.537      7.594445     7.479556   \n",
       "1      Denmark               2            7.522      7.581728     7.462272   \n",
       "2      Iceland               3            7.504      7.622030     7.385970   \n",
       "3  Switzerland               4            7.494      7.561772     7.426227   \n",
       "4      Finland               5            7.469      7.527542     7.410458   \n",
       "\n",
       "   Economy__GDP_per_Capita_    Family  Health__Life_Expectancy_   Freedom  \\\n",
       "0                  1.616463  1.533524                  0.796667  0.635423   \n",
       "1                  1.482383  1.551122                  0.792566  0.626007   \n",
       "2                  1.480633  1.610574                  0.833552  0.627163   \n",
       "3                  1.564980  1.516912                  0.858131  0.620071   \n",
       "4                  1.443572  1.540247                  0.809158  0.617951   \n",
       "\n",
       "   Generosity  Trust__Government_Corruption_  Dystopia_Residual  \n",
       "0    0.362012                       0.315964           2.277027  \n",
       "1    0.355280                       0.400770           2.313707  \n",
       "2    0.475540                       0.153527           2.322715  \n",
       "3    0.290549                       0.367007           2.276716  \n",
       "4    0.245483                       0.382612           2.430182  "
      ]
     },
     "execution_count": 5,
     "metadata": {},
     "output_type": "execute_result"
    }
   ],
   "source": [
    "happy2017_df.head()"
   ]
  },
  {
   "cell_type": "markdown",
   "id": "45067de7",
   "metadata": {},
   "source": [
    "#### The variables that will be analyzed \n",
    "\n",
    "Economy\n",
    "Family\n",
    "Health Life Expectancy\n",
    "Freedom\n",
    "Generosity\n",
    "Trust Govt Corruption"
   ]
  },
  {
   "cell_type": "code",
   "execution_count": 6,
   "id": "75527ea4",
   "metadata": {},
   "outputs": [
    {
     "data": {
      "image/png": "[encoded data removed]",
      "text/plain": [
       "<Figure size 432x288 with 1 Axes>"
      ]
     },
     "metadata": {
      "needs_background": "light"
     },
     "output_type": "display_data"
    },
    {
     "data": {
      "text/plain": [
       "<Figure size 576x432 with 0 Axes>"
      ]
     },
     "metadata": {},
     "output_type": "display_data"
    }
   ],
   "source": [
    "#GDP\n",
    "\n",
    "happiest_hist = thinkstats2.Hist(happiest.Economy__GDP_per_Capita_, label = 'Happiest')\n",
    "happy_hist = thinkstats2.Hist(happy.Economy__GDP_per_Capita_, label = 'Happy')\n",
    "rest_hist = thinkstats2.Hist( rest.Economy__GDP_per_Capita_, label = 'Rest')\n",
    "\n",
    "thinkplot.Hist(happiest_hist,  color='green', align='right', width=0.007)\n",
    "thinkplot.Hist(happy_hist, color='red', align='center', width=0.007)\n",
    "thinkplot.Hist(rest_hist, color='blue', align='left', width=0.007)\n",
    "\n",
    "thinkplot.Show(xlabel = 'GDP score for each Country')"
   ]
  },
  {
   "cell_type": "code",
   "execution_count": 7,
   "id": "073a99f4",
   "metadata": {},
   "outputs": [
    {
     "data": {
      "image/png": "[encoded data removed]",
      "text/plain": [
       "<Figure size 432x288 with 1 Axes>"
      ]
     },
     "metadata": {
      "needs_background": "light"
     },
     "output_type": "display_data"
    },
    {
     "data": {
      "text/plain": [
       "<Figure size 576x432 with 0 Axes>"
      ]
     },
     "metadata": {},
     "output_type": "display_data"
    }
   ],
   "source": [
    "#FAMILY\n",
    "happiest_hist = thinkstats2.Hist(happiest.Family, label = 'Happiest')\n",
    "happy_hist = thinkstats2.Hist(happy.Family, label = 'Happy')\n",
    "rest_hist = thinkstats2.Hist( rest.Family, label = 'Rest')\n",
    "\n",
    "thinkplot.Hist(happiest_hist,  color='green', align='right', width=0.007)\n",
    "thinkplot.Hist(happy_hist, color='red', align='center', width=0.007)\n",
    "thinkplot.Hist(rest_hist, color='blue', align='left', width=0.007)\n",
    "\n",
    "thinkplot.Show(xlabel = 'FAMILY score for Each Country')"
   ]
  },
  {
   "cell_type": "code",
   "execution_count": 8,
   "id": "82512bd4",
   "metadata": {},
   "outputs": [
    {
     "data": {
      "image/png": "[encoded data removed]",
      "text/plain": [
       "<Figure size 432x288 with 1 Axes>"
      ]
     },
     "metadata": {
      "needs_background": "light"
     },
     "output_type": "display_data"
    },
    {
     "data": {
      "text/plain": [
       "<Figure size 576x432 with 0 Axes>"
      ]
     },
     "metadata": {},
     "output_type": "display_data"
    }
   ],
   "source": [
    "#Health\n",
    "thinkplot.PrePlot(2)\n",
    "happiest_hist = thinkstats2.Hist(happiest.Health__Life_Expectancy_, label = 'Happiest')\n",
    "happy_hist = thinkstats2.Hist( happy.Health__Life_Expectancy_, label = 'Happy')\n",
    "rest_hist = thinkstats2.Hist( rest.Health__Life_Expectancy_, label = 'Rest')\n",
    "\n",
    "thinkplot.Hist(happiest_hist,  color='green', align='right', width=0.005)\n",
    "thinkplot.Hist(happy_hist, color='red', align='center', width=0.005)\n",
    "thinkplot.Hist(rest_hist, color='blue', align='left', width=0.005)\n",
    "\n",
    "thinkplot.Show(xlabel = 'Health score for each Country')"
   ]
  },
  {
   "cell_type": "code",
   "execution_count": 9,
   "id": "bd97563f",
   "metadata": {},
   "outputs": [
    {
     "data": {
      "image/png": "[encoded data removed]",
      "text/plain": [
       "<Figure size 432x288 with 1 Axes>"
      ]
     },
     "metadata": {
      "needs_background": "light"
     },
     "output_type": "display_data"
    },
    {
     "data": {
      "text/plain": [
       "<Figure size 576x432 with 0 Axes>"
      ]
     },
     "metadata": {},
     "output_type": "display_data"
    }
   ],
   "source": [
    "#Freedom\n",
    "happiest_hist = thinkstats2.Hist(happiest.Freedom, label = 'Happiest')\n",
    "happy_hist = thinkstats2.Hist( happy.Freedom, label = 'Happy')\n",
    "rest_hist = thinkstats2.Hist( rest.Freedom, label = 'Rest')\n",
    "\n",
    "thinkplot.Hist(happiest_hist,  color='green', align='right', width=0.002)\n",
    "thinkplot.Hist(happy_hist, color='red', align='center', width=0.002)\n",
    "thinkplot.Hist(rest_hist, color='blue', align='left', width=0.002)\n",
    "\n",
    "thinkplot.Show(xlabel = 'Freedom score for each Country')"
   ]
  },
  {
   "cell_type": "code",
   "execution_count": 10,
   "id": "08465594",
   "metadata": {},
   "outputs": [
    {
     "data": {
      "image/png": "[encoded data removed]",
      "text/plain": [
       "<Figure size 432x288 with 1 Axes>"
      ]
     },
     "metadata": {
      "needs_background": "light"
     },
     "output_type": "display_data"
    },
    {
     "data": {
      "text/plain": [
       "<Figure size 576x432 with 0 Axes>"
      ]
     },
     "metadata": {},
     "output_type": "display_data"
    }
   ],
   "source": [
    "#Generosity\n",
    "happiest_hist = thinkstats2.Hist(happiest.Generosity, label = 'Happiest')\n",
    "happy_hist = thinkstats2.Hist( happy.Generosity, label = 'Happy')\n",
    "rest_hist = thinkstats2.Hist( rest.Generosity, label = 'Rest')\n",
    "\n",
    "thinkplot.Hist(happiest_hist,  color='green', align='right', width=0.002)\n",
    "thinkplot.Hist(happy_hist, color='red', align='center', width=0.002)\n",
    "thinkplot.Hist(rest_hist, color='blue', align='left', width=0.002)\n",
    "\n",
    "thinkplot.Show(xlabel = 'Generosity score for each Country')"
   ]
  },
  {
   "cell_type": "code",
   "execution_count": 11,
   "id": "8ffde9c2",
   "metadata": {},
   "outputs": [
    {
     "data": {
      "image/png": "[encoded data removed]",
      "text/plain": [
       "<Figure size 432x288 with 1 Axes>"
      ]
     },
     "metadata": {
      "needs_background": "light"
     },
     "output_type": "display_data"
    },
    {
     "data": {
      "text/plain": [
       "<Figure size 576x432 with 0 Axes>"
      ]
     },
     "metadata": {},
     "output_type": "display_data"
    }
   ],
   "source": [
    "#Trust Govt Corruption\n",
    "happiest_hist = thinkstats2.Hist(happiest.Trust__Government_Corruption_, label = 'Happiest')\n",
    "happy_hist = thinkstats2.Hist( happy.Trust__Government_Corruption_, label = 'Happy')\n",
    "rest_hist = thinkstats2.Hist( rest.Trust__Government_Corruption_, label = 'Rest')\n",
    "\n",
    "\n",
    "thinkplot.Hist(happiest_hist,  color='green', align='right', width=0.002)\n",
    "thinkplot.Hist(happy_hist, color='red', align='center', width=0.002)\n",
    "thinkplot.Hist(rest_hist, color='blue', align='left', width=0.002)\n",
    "\n",
    "\n",
    "thinkplot.Show(xlabel = 'Trust on Govt score for each Country')\n"
   ]
  },
  {
   "cell_type": "code",
   "execution_count": 12,
   "id": "5f597389",
   "metadata": {},
   "outputs": [
    {
     "name": "stdout",
     "output_type": "stream",
     "text": [
      "---Economy - GDP Per Capita---\n",
      "-----Happiest Countries----- \n",
      "Mean Economy (happiest countries):                 1.4559903053136978\n",
      "Mode Economy (happiest countries):                 0    1.5\n",
      "dtype: float64\n",
      "Variance Economy (happiest countries):             0.01450962159513962\n",
      "Standard Deviation Economy (happiest countries):   0.12045589066185024\n",
      "***************************************************************************\n",
      "------Happy Countries------\n",
      "Mean Economy (happy countries):                    1.3390568718314182\n",
      "Mode Economy (happy countries):                    0    1.4\n",
      "1    1.5\n",
      "dtype: float64\n",
      "Variance Economy (happy countries):                0.06744932889404621\n",
      "Standard Deviation Economy (happy countries):      0.25971008623857145\n",
      "**************************************************************************\n",
      "-----Rest of the Countries-----\n",
      "Mean Economy (Rest of the countries):               0.8259420675818216\n",
      "Mode Economy (Rest of the countries):               0    1.1\n",
      "dtype: float64\n",
      "Variance Economy (Rest of the countries):           0.14059685874187855\n",
      "Standard Deviation Economy (Rest of the countries): 0.3749624764451485\n"
     ]
    }
   ],
   "source": [
    "# Mean, Mode, Spread and Tails - Economy\n",
    "\n",
    "\n",
    "happiest_mean = happiest.Economy__GDP_per_Capita_.mean()\n",
    "happiest_mode = round(happiest.Economy__GDP_per_Capita_,1).mode()\n",
    "happiest_var = happiest.Economy__GDP_per_Capita_.var()\n",
    "happiest_std = happiest.Economy__GDP_per_Capita_.std()\n",
    "\n",
    "happy_mean = happy.Economy__GDP_per_Capita_.mean()\n",
    "happy_mode = round(happy.Economy__GDP_per_Capita_,1).mode()\n",
    "happy_var = happy.Economy__GDP_per_Capita_.var()\n",
    "happy_std = happy.Economy__GDP_per_Capita_.std()\n",
    "\n",
    "rest_mean = rest.Economy__GDP_per_Capita_.mean()\n",
    "rest_mode = round(rest.Economy__GDP_per_Capita_,1).mode()\n",
    "rest_var = rest.Economy__GDP_per_Capita_.var()\n",
    "rest_std = rest.Economy__GDP_per_Capita_.std()\n",
    "\n",
    "print(\"---Economy - GDP Per Capita---\")\n",
    "print(\"-----Happiest Countries----- \")\n",
    "print(\"Mean Economy (happiest countries):                \", happiest_mean)\n",
    "print(\"Mode Economy (happiest countries):                \", happiest_mode)\n",
    "print(\"Variance Economy (happiest countries):            \", happiest_var)\n",
    "print(\"Standard Deviation Economy (happiest countries):  \", happiest_std)\n",
    "\n",
    "print(\"***************************************************************************\")\n",
    "\n",
    "print(\"------Happy Countries------\")\n",
    "print(\"Mean Economy (happy countries):                   \", happy_mean)\n",
    "print(\"Mode Economy (happy countries):                   \", happy_mode)\n",
    "print(\"Variance Economy (happy countries):               \", happy_var)\n",
    "print(\"Standard Deviation Economy (happy countries):     \", happy_std)\n",
    "\n",
    "print(\"**************************************************************************\")\n",
    "\n",
    "print(\"-----Rest of the Countries-----\")\n",
    "print(\"Mean Economy (Rest of the countries):              \", rest_mean)\n",
    "print(\"Mode Economy (Rest of the countries):              \", rest_mode)\n",
    "print(\"Variance Economy (Rest of the countries):          \", rest_var)\n",
    "print(\"Standard Deviation Economy (Rest of the countries):\", rest_std)\n",
    "\n"
   ]
  },
  {
   "cell_type": "code",
   "execution_count": 13,
   "id": "ea604e87",
   "metadata": {},
   "outputs": [
    {
     "name": "stdout",
     "output_type": "stream",
     "text": [
      "---Family Score---\n",
      "-----Happiest Countries----- \n",
      "Mean Family (happiest countries):                 1.4962848975108225\n",
      "Mode Family (happiest countries):                 0    1.5\n",
      "dtype: float64\n",
      "Variance Family (happiest countries):             0.0041570968109487525\n",
      "Standard Deviation Family (happiest countries):   0.06447555204066695\n",
      "***************************************************************************\n",
      "------Happy Countries------\n",
      "Mean Family (happy countries):                    1.3755886070430274\n",
      "Mode Family (happy countries):                    0    1.4\n",
      "dtype: float64\n",
      "Variance Family (happy countries):                0.009718138821164615\n",
      "Standard Deviation Family (happy countries):      0.09858062092097318\n",
      "**************************************************************************\n",
      "-----Rest of the Countries-----\n",
      "Mean Family (Rest of the countries):               1.0982601111585442\n",
      "Mode Family (Rest of the countries):               0    1.2\n",
      "dtype: float64\n",
      "Variance Family (Rest of the countries):           0.08357448811883031\n",
      "Standard Deviation Family (Rest of the countries): 0.289092525186713\n"
     ]
    }
   ],
   "source": [
    "# Mean, Mode, Spread and Tails - Family\n",
    "\n",
    "\n",
    "happiest_mean = happiest.Family.mean()\n",
    "happiest_mode = round(happiest.Family,1).mode()\n",
    "happiest_var = happiest.Family.var()\n",
    "happiest_std = happiest.Family.std()\n",
    "\n",
    "happy_mean = happy.Family.mean()\n",
    "happy_mode = round(happy.Family,1).mode()\n",
    "happy_var = happy.Family.var()\n",
    "happy_std = happy.Family.std()\n",
    "\n",
    "rest_mean = rest.Family.mean()\n",
    "rest_mode = round(rest.Family,1).mode()\n",
    "rest_var = rest.Family.var()\n",
    "rest_std = rest.Family.std()\n",
    "\n",
    "print(\"---Family Score---\")\n",
    "print(\"-----Happiest Countries----- \")\n",
    "print(\"Mean Family (happiest countries):                \", happiest_mean)\n",
    "print(\"Mode Family (happiest countries):                \", happiest_mode)\n",
    "print(\"Variance Family (happiest countries):            \", happiest_var)\n",
    "print(\"Standard Deviation Family (happiest countries):  \", happiest_std)\n",
    "\n",
    "print(\"***************************************************************************\")\n",
    "\n",
    "print(\"------Happy Countries------\")\n",
    "print(\"Mean Family (happy countries):                   \", happy_mean)\n",
    "print(\"Mode Family (happy countries):                   \", happy_mode)\n",
    "print(\"Variance Family (happy countries):               \", happy_var)\n",
    "print(\"Standard Deviation Family (happy countries):     \", happy_std)\n",
    "\n",
    "print(\"**************************************************************************\")\n",
    "\n",
    "print(\"-----Rest of the Countries-----\")\n",
    "print(\"Mean Family (Rest of the countries):              \", rest_mean)\n",
    "print(\"Mode Family (Rest of the countries):              \", rest_mode)\n",
    "print(\"Variance Family (Rest of the countries):          \", rest_var)\n",
    "print(\"Standard Deviation Family (Rest of the countries):\", rest_std)"
   ]
  },
  {
   "cell_type": "code",
   "execution_count": 14,
   "id": "23426be2",
   "metadata": {},
   "outputs": [
    {
     "name": "stdout",
     "output_type": "stream",
     "text": [
      "---Health - Life Expectancy---\n",
      "-----Happiest Countries----- \n",
      "Mean Health (happiest countries):                 0.818468479009775\n",
      "Mode Health (happiest countries):                 0    0.83\n",
      "dtype: float64\n",
      "Variance Health (happiest countries):             0.0006699430244005238\n",
      "Standard Deviation Health (happiest countries):   0.025883257607969747\n",
      "***************************************************************************\n",
      "------Happy Countries------\n",
      "Mean Health (happy countries):                    0.7203872315585613\n",
      "Mode Health (happy countries):                    0    0.71\n",
      "dtype: float64\n",
      "Variance Health (happy countries):                0.01092954881405884\n",
      "Standard Deviation Health (happy countries):      0.10454448246588072\n",
      "**************************************************************************\n",
      "-----Rest of the Countries-----\n",
      "Mean Health (Rest of the countries):               0.4705939969809895\n",
      "Mode Health (Rest of the countries):               0    0.64\n",
      "dtype: float64\n",
      "Variance Health (Rest of the countries):           0.05274473043786145\n",
      "Standard Deviation Health (Rest of the countries): 0.2296622094247581\n"
     ]
    }
   ],
   "source": [
    "# Mean, Mode, Spread and Tails - Health__Life_Expectancy_\n",
    "\n",
    "\n",
    "happiest_mean = happiest.Health__Life_Expectancy_.mean()\n",
    "happiest_mode = round(happiest.Health__Life_Expectancy_,2).mode()\n",
    "happiest_var = happiest.Health__Life_Expectancy_.var()\n",
    "happiest_std = happiest.Health__Life_Expectancy_.std()\n",
    "\n",
    "happy_mean = happy.Health__Life_Expectancy_.mean()\n",
    "happy_mode = round(happy.Health__Life_Expectancy_,2).mode()\n",
    "happy_var = happy.Health__Life_Expectancy_.var()\n",
    "happy_std = happy.Health__Life_Expectancy_.std()\n",
    "\n",
    "rest_mean = rest.Health__Life_Expectancy_.mean()\n",
    "rest_mode = round(rest.Health__Life_Expectancy_,2).mode()\n",
    "rest_var = rest.Health__Life_Expectancy_.var()\n",
    "rest_std = rest.Health__Life_Expectancy_.std()\n",
    "\n",
    "print(\"---Health - Life Expectancy---\")\n",
    "print(\"-----Happiest Countries----- \")\n",
    "print(\"Mean Health (happiest countries):                \", happiest_mean)\n",
    "print(\"Mode Health (happiest countries):                \", happiest_mode)\n",
    "print(\"Variance Health (happiest countries):            \", happiest_var)\n",
    "print(\"Standard Deviation Health (happiest countries):  \", happiest_std)\n",
    "\n",
    "print(\"***************************************************************************\")\n",
    "\n",
    "print(\"------Happy Countries------\")\n",
    "print(\"Mean Health (happy countries):                   \", happy_mean)\n",
    "print(\"Mode Health (happy countries):                   \", happy_mode)\n",
    "print(\"Variance Health (happy countries):               \", happy_var)\n",
    "print(\"Standard Deviation Health (happy countries):     \", happy_std)\n",
    "\n",
    "print(\"**************************************************************************\")\n",
    "\n",
    "print(\"-----Rest of the Countries-----\")\n",
    "print(\"Mean Health (Rest of the countries):              \", rest_mean)\n",
    "print(\"Mode Health (Rest of the countries):              \", rest_mode)\n",
    "print(\"Variance Health (Rest of the countries):          \", rest_var)\n",
    "print(\"Standard Deviation Health (Rest of the countries):\", rest_std)"
   ]
  },
  {
   "cell_type": "code",
   "execution_count": 15,
   "id": "87807be7",
   "metadata": {},
   "outputs": [
    {
     "name": "stdout",
     "output_type": "stream",
     "text": [
      "-----FREEDOM Score-----\n",
      "-----Happiest Countries----- \n",
      "Mean Health (happiest countries):                 0.5927368333706489\n",
      "Mode Health (happiest countries):                 0    0.6\n",
      "dtype: float64\n",
      "Variance Health (happiest countries):             0.003540548115131752\n",
      "Standard Deviation Health (happiest countries):   0.05950250511643818\n",
      "***************************************************************************\n",
      "------Happy Countries------\n",
      "Mean Health (happy countries):                    0.4951005568727851\n",
      "Mode Health (happy countries):                    0    0.5\n",
      "dtype: float64\n",
      "Variance Health (happy countries):                0.0061021692436505045\n",
      "Standard Deviation Health (happy countries):      0.07811638268411118\n",
      "**************************************************************************\n",
      "-----Rest of the Countries-----\n",
      "Mean Health (Rest of the countries):               0.3619366285391152\n",
      "Mode Health (Rest of the countries):               0    0.5\n",
      "dtype: float64\n",
      "Variance Health (Rest of the countries):           0.021224653296330404\n",
      "Standard Deviation Health (Rest of the countries): 0.14568683295456183\n"
     ]
    }
   ],
   "source": [
    "# Mean, Mode, Spread and Tails - Freedom\n",
    "\n",
    "\n",
    "happiest_mean = happiest.Freedom.mean()\n",
    "happiest_mode = round(happiest.Freedom,1).mode()\n",
    "happiest_var = happiest.Freedom.var()\n",
    "happiest_std = happiest.Freedom.std()\n",
    "\n",
    "happy_mean = happy.Freedom.mean()\n",
    "happy_mode = round(happy.Freedom,1).mode()\n",
    "happy_var = happy.Freedom.var()\n",
    "happy_std = happy.Freedom.std()\n",
    "\n",
    "rest_mean = rest.Freedom.mean()\n",
    "rest_mode = round(rest.Freedom,1).mode()\n",
    "rest_var = rest.Freedom.var()\n",
    "rest_std = rest.Freedom.std()\n",
    "\n",
    "print(\"-----FREEDOM Score-----\")\n",
    "print(\"-----Happiest Countries----- \")\n",
    "print(\"Mean Health (happiest countries):                \", happiest_mean)\n",
    "print(\"Mode Health (happiest countries):                \", happiest_mode)\n",
    "print(\"Variance Health (happiest countries):            \", happiest_var)\n",
    "print(\"Standard Deviation Health (happiest countries):  \", happiest_std)\n",
    "\n",
    "print(\"***************************************************************************\")\n",
    "\n",
    "print(\"------Happy Countries------\")\n",
    "print(\"Mean Health (happy countries):                   \", happy_mean)\n",
    "print(\"Mode Health (happy countries):                   \", happy_mode)\n",
    "print(\"Variance Health (happy countries):               \", happy_var)\n",
    "print(\"Standard Deviation Health (happy countries):     \", happy_std)\n",
    "\n",
    "print(\"**************************************************************************\")\n",
    "\n",
    "print(\"-----Rest of the Countries-----\")\n",
    "print(\"Mean Health (Rest of the countries):              \", rest_mean)\n",
    "print(\"Mode Health (Rest of the countries):              \", rest_mode)\n",
    "print(\"Variance Health (Rest of the countries):          \", rest_var)\n",
    "print(\"Standard Deviation Health (Rest of the countries):\", rest_std)"
   ]
  },
  {
   "cell_type": "code",
   "execution_count": 16,
   "id": "5855fd95",
   "metadata": {},
   "outputs": [
    {
     "name": "stdout",
     "output_type": "stream",
     "text": [
      "-----GENEROSITY Score-----\n",
      "-----Happiest Countries----- \n",
      "Mean Health (happiest countries):                 0.3737820295187145\n",
      "Mode Health (happiest countries):                 0    0.4\n",
      "1    0.5\n",
      "dtype: float64\n",
      "Variance Health (happiest countries):             0.008732094135273595\n",
      "Standard Deviation Health (happiest countries):   0.0934456747809849\n",
      "***************************************************************************\n",
      "------Happy Countries------\n",
      "Mean Health (happy countries):                    0.26592027279548347\n",
      "Mode Health (happy countries):                    0    0.3\n",
      "dtype: float64\n",
      "Variance Health (happy countries):                0.018291041787260032\n",
      "Standard Deviation Health (happy countries):      0.13524437802459677\n",
      "**************************************************************************\n",
      "-----Rest of the Countries-----\n",
      "Mean Health (Rest of the countries):               0.22634839079427452\n",
      "Mode Health (Rest of the countries):               0    0.2\n",
      "dtype: float64\n",
      "Variance Health (Rest of the countries):           0.017049472275684825\n",
      "Standard Deviation Health (Rest of the countries): 0.130573627795527\n"
     ]
    }
   ],
   "source": [
    "# Mean, Mode, Spread and Tails - Generosity\n",
    "\n",
    "\n",
    "happiest_mean = happiest.Generosity.mean()\n",
    "happiest_mode = round(happiest.Generosity,1).mode()\n",
    "happiest_var = happiest.Generosity.var()\n",
    "happiest_std = happiest.Generosity.std()\n",
    "\n",
    "happy_mean = happy.Generosity.mean()\n",
    "happy_mode = round(happy.Generosity,1).mode()\n",
    "happy_var = happy.Generosity.var()\n",
    "happy_std = happy.Generosity.std()\n",
    "\n",
    "rest_mean = rest.Generosity.mean()\n",
    "rest_mode = round(rest.Generosity,1).mode()\n",
    "rest_var = rest.Generosity.var()\n",
    "rest_std = rest.Generosity.std()\n",
    "\n",
    "print(\"-----GENEROSITY Score-----\")\n",
    "print(\"-----Happiest Countries----- \")\n",
    "print(\"Mean Health (happiest countries):                \", happiest_mean)\n",
    "print(\"Mode Health (happiest countries):                \", happiest_mode)\n",
    "print(\"Variance Health (happiest countries):            \", happiest_var)\n",
    "print(\"Standard Deviation Health (happiest countries):  \", happiest_std)\n",
    "\n",
    "print(\"***************************************************************************\")\n",
    "\n",
    "print(\"------Happy Countries------\")\n",
    "print(\"Mean Health (happy countries):                   \", happy_mean)\n",
    "print(\"Mode Health (happy countries):                   \", happy_mode)\n",
    "print(\"Variance Health (happy countries):               \", happy_var)\n",
    "print(\"Standard Deviation Health (happy countries):     \", happy_std)\n",
    "\n",
    "print(\"**************************************************************************\")\n",
    "\n",
    "print(\"-----Rest of the Countries-----\")\n",
    "print(\"Mean Health (Rest of the countries):              \", rest_mean)\n",
    "print(\"Mode Health (Rest of the countries):              \", rest_mode)\n",
    "print(\"Variance Health (Rest of the countries):          \", rest_var)\n",
    "print(\"Standard Deviation Health (Rest of the countries):\", rest_std)"
   ]
  },
  {
   "cell_type": "code",
   "execution_count": 33,
   "id": "bf60aa0a",
   "metadata": {
    "scrolled": false
   },
   "outputs": [
    {
     "name": "stdout",
     "output_type": "stream",
     "text": [
      "-----TRUST - Govt Corruption Score-----\n",
      "-----Happiest Countries----- \n",
      "Mean Health (happiest countries):                 0.28190160370790046\n",
      "Mode Health (happiest countries):                 0    0.4\n",
      "dtype: float64\n",
      "Variance Health (happiest countries):             0.012139452344576291\n",
      "Standard Deviation Health (happiest countries):   0.11017918290029334\n",
      "***************************************************************************\n",
      "------Happy Countries------\n",
      "Mean Health (happy countries):                    0.164603284385521\n",
      "Mode Health (happy countries):                    0    0.1\n",
      "dtype: float64\n",
      "Variance Health (happy countries):                0.014609559885465058\n",
      "Standard Deviation Health (happy countries):      0.12087001234990033\n",
      "**************************************************************************\n",
      "-----Rest of the Countries-----\n",
      "Mean Health (Rest of the countries):               0.09228734774938362\n",
      "Mode Health (Rest of the countries):               0    0.1\n",
      "dtype: float64\n",
      "Variance Health (Rest of the countries):           0.004638637571590521\n",
      "Standard Deviation Health (Rest of the countries): 0.06810754416061793\n"
     ]
    }
   ],
   "source": [
    "# Mean, Mode, Spread and Tails - Trust__Government_Corruption_\n",
    "\n",
    "\n",
    "happiest_mean = happiest.Trust__Government_Corruption_.mean()\n",
    "happiest_mode = round(happiest.Trust__Government_Corruption_,1).mode()\n",
    "happiest_var = happiest.Trust__Government_Corruption_.var()\n",
    "happiest_std = happiest.Trust__Government_Corruption_.std()\n",
    "\n",
    "happy_mean = happy.Trust__Government_Corruption_.mean()\n",
    "happy_mode = round(happy.Trust__Government_Corruption_,1).mode()\n",
    "happy_var = happy.Trust__Government_Corruption_.var()\n",
    "happy_std = happy.Trust__Government_Corruption_.std()\n",
    "\n",
    "rest_mean = rest.Trust__Government_Corruption_.mean()\n",
    "rest_mode = round(rest.Trust__Government_Corruption_,1).mode()\n",
    "rest_var = rest.Trust__Government_Corruption_.var()\n",
    "rest_std = rest.Trust__Government_Corruption_.std()\n",
    "\n",
    "print(\"-----TRUST - Govt Corruption Score-----\")\n",
    "print(\"-----Happiest Countries----- \")\n",
    "print(\"Mean Health (happiest countries):                \", happiest_mean)\n",
    "print(\"Mode Health (happiest countries):                \", happiest_mode)\n",
    "print(\"Variance Health (happiest countries):            \", happiest_var)\n",
    "print(\"Standard Deviation Health (happiest countries):  \", happiest_std)\n",
    "\n",
    "print(\"***************************************************************************\")\n",
    "\n",
    "print(\"------Happy Countries------\")\n",
    "print(\"Mean Health (happy countries):                   \", happy_mean)\n",
    "print(\"Mode Health (happy countries):                   \", happy_mode)\n",
    "print(\"Variance Health (happy countries):               \", happy_var)\n",
    "print(\"Standard Deviation Health (happy countries):     \", happy_std)\n",
    "\n",
    "print(\"**************************************************************************\")\n",
    "\n",
    "print(\"-----Rest of the Countries-----\")\n",
    "print(\"Mean Health (Rest of the countries):              \", rest_mean)\n",
    "print(\"Mode Health (Rest of the countries):              \", rest_mode)\n",
    "print(\"Variance Health (Rest of the countries):          \", rest_var)\n",
    "print(\"Standard Deviation Health (Rest of the countries):\", rest_std)"
   ]
  },
  {
   "cell_type": "code",
   "execution_count": 18,
   "id": "e4ce7694",
   "metadata": {},
   "outputs": [
    {
     "data": {
      "image/png": "[encoded data removed]",
      "text/plain": [
       "<Figure size 432x288 with 1 Axes>"
      ]
     },
     "metadata": {
      "needs_background": "light"
     },
     "output_type": "display_data"
    }
   ],
   "source": [
    "# PMF Comparison of Economy between the Happiest, happy and the rest of the countries\n",
    "\n",
    "happiest_pmf = thinkstats2.Pmf(round(happiest.Economy__GDP_per_Capita_,2), label= 'Happiest')\n",
    "happy_pmf = thinkstats2.Pmf(round(happy.Economy__GDP_per_Capita_,2), label = 'Happy')\n",
    "rest_pmf = thinkstats2.Pmf(round(rest.Economy__GDP_per_Capita_,2), label = 'Rest')\n",
    "\n",
    "width=0.02\n",
    "#axis = [0, 10, 0, 0.20]\n",
    "#thinkplot.PrePlot(2, cols=2)\n",
    "thinkplot.Hist(happiest_pmf,  width=width, color = 'green')\n",
    "thinkplot.Hist(happy_pmf,  width=width, color ='red')\n",
    "thinkplot.Hist(rest_pmf,  width=width, color ='blue')\n",
    "thinkplot.Config(xlabel='GDP per capita', ylabel='PMF')\n"
   ]
  },
  {
   "cell_type": "code",
   "execution_count": 19,
   "id": "c1290cad",
   "metadata": {},
   "outputs": [
    {
     "data": {
      "image/png": "[encoded data removed]",
      "text/plain": [
       "<Figure size 432x288 with 1 Axes>"
      ]
     },
     "metadata": {
      "needs_background": "light"
     },
     "output_type": "display_data"
    }
   ],
   "source": [
    "# PMF Comparison of Health and Life expectancy between the Happiest, happy and the rest of the countries\n",
    "\n",
    "happiest_pmf = thinkstats2.Pmf(round(happiest.Health__Life_Expectancy_,2), label= 'Happiest')\n",
    "happy_pmf = thinkstats2.Pmf(round(happy.Health__Life_Expectancy_,2), label = 'Happy')\n",
    "rest_pmf = thinkstats2.Pmf(round(rest.Health__Life_Expectancy_,2), label = 'Rest')\n",
    "\n",
    "width=0.02\n",
    "#axis = [0, 10, 0, 0.20]\n",
    "#thinkplot.PrePlot(2, cols=2)\n",
    "thinkplot.Hist(happiest_pmf,  width=width, color = 'green')\n",
    "thinkplot.Hist(happy_pmf,  width=width, color ='red')\n",
    "thinkplot.Hist(rest_pmf,  width=width, color ='blue')\n",
    "thinkplot.Config(xlabel='Health and Life expectancy', ylabel='PMF')"
   ]
  },
  {
   "cell_type": "code",
   "execution_count": 20,
   "id": "fa26d72f",
   "metadata": {
    "scrolled": true
   },
   "outputs": [
    {
     "data": {
      "image/png": "[encoded data removed]",
      "text/plain": [
       "<Figure size 432x288 with 1 Axes>"
      ]
     },
     "metadata": {
      "needs_background": "light"
     },
     "output_type": "display_data"
    }
   ],
   "source": [
    "# PMF Comparison of Freedom between the Happiest, happy and the rest of the countries\n",
    "\n",
    "happiest_pmf = thinkstats2.Pmf(round(happiest.Freedom,2), label= 'Happiest')\n",
    "happy_pmf = thinkstats2.Pmf(round(happy.Freedom,2), label = 'Happy')\n",
    "rest_pmf = thinkstats2.Pmf(round(rest.Freedom,2), label = 'Rest')\n",
    "\n",
    "width=0.02\n",
    "#axis = [0, 10, 0, 0.20]\n",
    "#thinkplot.PrePlot(2, cols=2)\n",
    "thinkplot.Hist(happiest_pmf,  width=width, color = 'green')\n",
    "thinkplot.Hist(happy_pmf,  width=width, color ='red')\n",
    "thinkplot.Hist(rest_pmf,  width=width, color ='blue')\n",
    "thinkplot.Config(xlabel='Freedom', ylabel='PMF')"
   ]
  },
  {
   "cell_type": "code",
   "execution_count": 21,
   "id": "c7c183c0",
   "metadata": {},
   "outputs": [
    {
     "data": {
      "image/png": "[encoded data removed]",
      "text/plain": [
       "<Figure size 432x288 with 1 Axes>"
      ]
     },
     "metadata": {
      "needs_background": "light"
     },
     "output_type": "display_data"
    }
   ],
   "source": [
    "# CDF plots for Economy scores for Happiest, Happy and Rest of the countries\n",
    "\n",
    "happiest_cdf = thinkstats2.Cdf(happiest.Economy__GDP_per_Capita_, label = 'Happiest')\n",
    "happy_cdf = thinkstats2.Cdf(happy.Economy__GDP_per_Capita_, label = 'Happy')\n",
    "rest_cdf = thinkstats2.Cdf(rest.Economy__GDP_per_Capita_, label = 'Rest')\n",
    "thinkplot.Cdf(happiest_cdf, color = 'green')\n",
    "thinkplot.Cdf(happy_cdf, color = 'red')\n",
    "thinkplot.Cdf(rest_cdf, color='blue')\n",
    "thinkplot.Config(xlabel ='Economy - GDP', ylabel = 'CDF')\n",
    "\n"
   ]
  },
  {
   "cell_type": "code",
   "execution_count": 22,
   "id": "abec88e3",
   "metadata": {
    "scrolled": true
   },
   "outputs": [
    {
     "data": {
      "image/png": "[encoded data removed]",
      "text/plain": [
       "<Figure size 432x288 with 1 Axes>"
      ]
     },
     "metadata": {
      "needs_background": "light"
     },
     "output_type": "display_data"
    }
   ],
   "source": [
    "# CDF plots for Health - Life Expectancy scores for Happiest, Happy and Rest of the countries\n",
    "\n",
    "happiest_cdf = thinkstats2.Cdf(happiest.Health__Life_Expectancy_, label = 'Happiest')\n",
    "happy_cdf = thinkstats2.Cdf(happy.Health__Life_Expectancy_, label = 'Happy')\n",
    "rest_cdf = thinkstats2.Cdf(rest.Health__Life_Expectancy_, label = 'Rest')\n",
    "thinkplot.Cdf(happiest_cdf, color = 'green')\n",
    "thinkplot.Cdf(happy_cdf, color = 'red')\n",
    "thinkplot.Cdf(rest_cdf, color='blue')\n",
    "thinkplot.Config(xlabel ='Health - Life Expectancy', ylabel = 'CDF')"
   ]
  },
  {
   "cell_type": "code",
   "execution_count": 23,
   "id": "578b5673",
   "metadata": {},
   "outputs": [
    {
     "data": {
      "image/png": "[encoded data removed]",
      "text/plain": [
       "<Figure size 432x288 with 1 Axes>"
      ]
     },
     "metadata": {
      "needs_background": "light"
     },
     "output_type": "display_data"
    }
   ],
   "source": [
    "# CDF plots for Freedom scores for Happiest, Happy and Rest of the countries\n",
    "\n",
    "happiest_cdf = thinkstats2.Cdf(happiest.Freedom, label = 'Happiest')\n",
    "happy_cdf = thinkstats2.Cdf(happy.Freedom, label = 'Happy')\n",
    "rest_cdf = thinkstats2.Cdf(rest.Freedom, label = 'Rest')\n",
    "thinkplot.Cdf(happiest_cdf, color = 'green')\n",
    "thinkplot.Cdf(happy_cdf, color = 'red')\n",
    "thinkplot.Cdf(rest_cdf, color='blue')\n",
    "thinkplot.Config(xlabel ='Freedom', ylabel = 'CDF')"
   ]
  },
  {
   "cell_type": "code",
   "execution_count": 24,
   "id": "a7524076",
   "metadata": {},
   "outputs": [
    {
     "data": {
      "image/png": "[encoded data removed]",
      "text/plain": [
       "<Figure size 432x288 with 1 Axes>"
      ]
     },
     "metadata": {
      "needs_background": "light"
     },
     "output_type": "display_data"
    }
   ],
   "source": [
    "# Plotting Normal Distribution\n",
    "mus = [1, 1.5, 2.0]\n",
    "sigmas = [0.05, 0.1, 0.15]\n",
    "for mu, sigma in zip(mus, sigmas):\n",
    "    xs, ps = thinkstats2.RenderNormalCdf(mu=mu, sigma=sigma, low=0, high=3)\n",
    "    label = r'$\\mu=%g$, $\\sigma=%g$' % (mu, sigma)\n",
    "    thinkplot.Plot(xs, ps, label=label)\n",
    "    \n",
    "happiest_cdf = thinkstats2.Cdf(happiest.Economy__GDP_per_Capita_, label = 'Happiest')\n",
    "thinkplot.Cdf(happiest_cdf, color = 'green')\n",
    "    \n",
    "thinkplot.Config(title='Normal CDF', xlabel='GDP', ylabel='CDF',\n",
    "                 loc='upper left')"
   ]
  },
  {
   "cell_type": "code",
   "execution_count": 25,
   "id": "7c488354",
   "metadata": {
    "scrolled": true
   },
   "outputs": [
    {
     "data": {
      "image/png": "[encoded data removed]",
      "text/plain": [
       "<Figure size 432x288 with 1 Axes>"
      ]
     },
     "metadata": {
      "needs_background": "light"
     },
     "output_type": "display_data"
    }
   ],
   "source": [
    "# Scatter plots for GDP and Govt Trust\n",
    "\n",
    "thinkplot.Scatter(happiest.Trust__Government_Corruption_, happiest.Economy__GDP_per_Capita_, alpha=1, label = 'Happiest', color = 'green')\n",
    "thinkplot.Scatter(happy.Trust__Government_Corruption_, happy.Economy__GDP_per_Capita_, alpha=0.7, label = 'Happy', color = 'red')\n",
    "thinkplot.Scatter(rest.Trust__Government_Corruption_, rest.Economy__GDP_per_Capita_, alpha=0.5, label = 'Rest', color = 'blue')\n",
    "thinkplot.Config(xlabel='Trust__Government_Corruption_',\n",
    "                 ylabel='Economy__GDP_per_Capita_',\n",
    "                 legend=True, loc='upper left')\n",
    "\n"
   ]
  },
  {
   "cell_type": "code",
   "execution_count": 26,
   "id": "f5ae9193",
   "metadata": {},
   "outputs": [
    {
     "data": {
      "image/png": "[encoded data removed]",
      "text/plain": [
       "<Figure size 432x288 with 1 Axes>"
      ]
     },
     "metadata": {
      "needs_background": "light"
     },
     "output_type": "display_data"
    }
   ],
   "source": [
    "# Scatter plots for GDP and Health Life expectancy\n",
    "\n",
    "thinkplot.Scatter(happiest.Health__Life_Expectancy_, happiest.Economy__GDP_per_Capita_, alpha=1, label = 'Happiest', color = 'green')\n",
    "thinkplot.Scatter(happy.Health__Life_Expectancy_, happy.Economy__GDP_per_Capita_, alpha=0.7, label = 'Happy', color = 'red')\n",
    "thinkplot.Scatter(rest.Health__Life_Expectancy_, rest.Economy__GDP_per_Capita_, alpha=0.5, label = 'Rest', color = 'blue')\n",
    "thinkplot.Config(xlabel='Health__Life_Expectancy_',\n",
    "                 ylabel='Economy__GDP_per_Capita_',\n",
    "                 legend=True, loc='upper left')\n"
   ]
  },
  {
   "cell_type": "code",
   "execution_count": 27,
   "id": "720d9315",
   "metadata": {},
   "outputs": [
    {
     "data": {
      "image/png": "[encoded data removed]",
      "text/plain": [
       "<Figure size 432x288 with 1 Axes>"
      ]
     },
     "metadata": {
      "needs_background": "light"
     },
     "output_type": "display_data"
    }
   ],
   "source": [
    "# Scatter plots for GDP and Freedom\n",
    "\n",
    "thinkplot.Scatter(happiest.Freedom, happiest.Economy__GDP_per_Capita_, alpha=1, label = 'Happiest', color = 'green')\n",
    "thinkplot.Scatter(happy.Freedom, happy.Economy__GDP_per_Capita_, alpha=0.7, label = 'Happy', color = 'red')\n",
    "thinkplot.Scatter(rest.Freedom, rest.Economy__GDP_per_Capita_, alpha=0.5, label = 'Rest', color = 'blue')\n",
    "thinkplot.Config(xlabel='Freedom',\n",
    "                 ylabel='Economy__GDP_per_Capita_',\n",
    "                 legend=True, loc='upper left')"
   ]
  },
  {
   "cell_type": "code",
   "execution_count": 28,
   "id": "ebc0fad2",
   "metadata": {},
   "outputs": [
    {
     "name": "stdout",
     "output_type": "stream",
     "text": [
      "Happiest Countries - Covariance between GDP and Trust on Govt.:      0.006919219551632766\n",
      "Happiest Countries - Pearson's Corr between GDP and Trust on Govt.:  0.5647960192361154\n",
      "Happiest Countries - Spearman's Corr between GDP and Trust on Govt.: 0.3186813186813187\n",
      "**************************************************************************************************\n",
      "Happy Countries - Covariance between GDP and Trust on Govt.:         0.020845110056933097\n",
      "Happy Countries - Pearson's Corr between GDP and Trust on Govt.:     0.6854646992850152\n",
      "Happy Countries - Spearman's Corr between GDP and Trust on Govt.:    0.6546920821114369\n",
      "**************************************************************************************************\n",
      "Rest Countries - Covariance between GDP and Trust on Govt.:         -0.0038790433236934783\n",
      "Rest Countries - Pearson's Corr between GDP and Trust on Govt.:     -0.15328786939532638\n",
      "Rest Countries - Spearman's Corr between GDP and Trust on Govt.:    -0.2055992606451322\n"
     ]
    }
   ],
   "source": [
    "happiest_cov = thinkstats2.Cov(happiest.Trust__Government_Corruption_, happiest.Economy__GDP_per_Capita_)\n",
    "happiest_corr = thinkstats2.Corr(happiest.Trust__Government_Corruption_, happiest.Economy__GDP_per_Capita_)\n",
    "happiest_spcorr = thinkstats2.SpearmanCorr(happiest.Trust__Government_Corruption_, happiest.Economy__GDP_per_Capita_)\n",
    "\n",
    "print(\"Happiest Countries - Covariance between GDP and Trust on Govt.:     \", happiest_cov)\n",
    "print(\"Happiest Countries - Pearson's Corr between GDP and Trust on Govt.: \", happiest_corr)\n",
    "print(\"Happiest Countries - Spearman's Corr between GDP and Trust on Govt.:\", happiest_spcorr)\n",
    "\n",
    "print(\"**************************************************************************************************\")\n",
    "happy_cov = thinkstats2.Cov(happy.Trust__Government_Corruption_, happy.Economy__GDP_per_Capita_)\n",
    "happy_corr = thinkstats2.Corr(happy.Trust__Government_Corruption_, happy.Economy__GDP_per_Capita_)\n",
    "happy_spcorr = thinkstats2.SpearmanCorr(happy.Trust__Government_Corruption_, happy.Economy__GDP_per_Capita_)\n",
    "\n",
    "print(\"Happy Countries - Covariance between GDP and Trust on Govt.:        \", happy_cov)\n",
    "print(\"Happy Countries - Pearson's Corr between GDP and Trust on Govt.:    \", happy_corr)\n",
    "print(\"Happy Countries - Spearman's Corr between GDP and Trust on Govt.:   \", happy_spcorr)\n",
    "\n",
    "print(\"**************************************************************************************************\")\n",
    "rest_cov = thinkstats2.Cov(rest.Trust__Government_Corruption_, rest.Economy__GDP_per_Capita_)\n",
    "rest_corr = thinkstats2.Corr(rest.Trust__Government_Corruption_, rest.Economy__GDP_per_Capita_)\n",
    "rest_spcorr = thinkstats2.SpearmanCorr(rest.Trust__Government_Corruption_, rest.Economy__GDP_per_Capita_)\n",
    "\n",
    "print(\"Rest Countries - Covariance between GDP and Trust on Govt.:        \", rest_cov)\n",
    "print(\"Rest Countries - Pearson's Corr between GDP and Trust on Govt.:    \", rest_corr)\n",
    "print(\"Rest Countries - Spearman's Corr between GDP and Trust on Govt.:   \", rest_spcorr)"
   ]
  },
  {
   "cell_type": "code",
   "execution_count": 29,
   "id": "f55a2512",
   "metadata": {},
   "outputs": [
    {
     "data": {
      "text/plain": [
       "0.06"
      ]
     },
     "execution_count": 29,
     "metadata": {},
     "output_type": "execute_result"
    }
   ],
   "source": [
    "#Conducting hypotheses testing \n",
    "# Hypotheses - \n",
    "# 1. GDP is higher for happiest countries than the happy and rest of the countries.\n",
    "#2. Health and life expectancy plays a critical role in the happiness score of a country\n",
    "\n",
    "class DiffMeansPermute(thinkstats2.HypothesisTest):\n",
    "\n",
    "    def TestStatistic(self, data):\n",
    "        group1, group2 = data\n",
    "        test_stat = (group1.mean() - group2.mean())\n",
    "        return test_stat\n",
    "\n",
    "    def MakeModel(self):\n",
    "        group1, group2 = self.data\n",
    "        self.n, self.m = len(group1), len(group2)\n",
    "        self.pool = np.hstack((group1, group2))\n",
    "\n",
    "    def RunModel(self):\n",
    "        np.random.shuffle(self.pool)\n",
    "        data = self.pool[:self.n], self.pool[self.n:]\n",
    "        return data\n",
    "\n",
    "\n",
    "data = happiest.Economy__GDP_per_Capita_.values, happy.Economy__GDP_per_Capita_.values\n",
    "ht = DiffMeansPermute(data)\n",
    "pvalue = ht.PValue()\n",
    "pvalue"
   ]
  },
  {
   "cell_type": "code",
   "execution_count": 30,
   "id": "e76e0b2d",
   "metadata": {},
   "outputs": [
    {
     "data": {
      "image/png": "[encoded data removed]",
      "text/plain": [
       "<Figure size 432x288 with 1 Axes>"
      ]
     },
     "metadata": {
      "needs_background": "light"
     },
     "output_type": "display_data"
    }
   ],
   "source": [
    "ht.PlotCdf()\n",
    "thinkplot.Config(xlabel='test statistic - mean diff', \n",
    "                   ylabel='CDF')"
   ]
  },
  {
   "cell_type": "code",
   "execution_count": 31,
   "id": "8a05348b",
   "metadata": {},
   "outputs": [],
   "source": [
    "def RunTests(happy2017_df, iters=1000):\n",
    "    \n",
    "    n = len(happy2017_df)\n",
    "    \n",
    "    # Permutation Test\n",
    "    # GDP is higher for Happiest countries then the rest of the countries\n",
    "    data = happiest.Economy__GDP_per_Capita_.values, happy.Economy__GDP_per_Capita_.values\n",
    "    ht = DiffMeansPermute(data)\n",
    "    p1 = ht.PValue(iters=iters)\n",
    "    \n",
    "    \n",
    "     # Health and life expectancy plays a critical role in the happiness score of a country\n",
    "    data = happiest.Health__Life_Expectancy_.values, happy.Health__Life_Expectancy_.values\n",
    "    ht = DiffMeansPermute(data)\n",
    "    p2 = ht.PValue(iters=iters)\n",
    "    \n",
    "    \n",
    "    print('%d\\t%0.2f\\t%0.3f' % (n, p1, p2))"
   ]
  },
  {
   "cell_type": "code",
   "execution_count": 32,
   "id": "81c7cae9",
   "metadata": {},
   "outputs": [
    {
     "name": "stdout",
     "output_type": "stream",
     "text": [
      "155\t0.05\t0.003\n",
      "77\t0.07\t0.001\n",
      "38\t0.06\t0.001\n",
      "19\t0.06\t0.002\n",
      "9\t0.06\t0.001\n",
      "4\t0.06\t0.001\n",
      "2\t0.05\t0.001\n"
     ]
    }
   ],
   "source": [
    "n = len(happy2017_df)\n",
    "for _ in range(7):\n",
    "    sample = thinkstats2.SampleRows(happy2017_df, n)\n",
    "    RunTests(sample)\n",
    "    n //= 2"
   ]
  },
  {
   "cell_type": "markdown",
   "id": "962cb58b",
   "metadata": {},
   "source": [
    "Conclusion - Hypothesis 1 and 2 returned positive test values which indicate that the GDP per capita and Health of people in happiest countries are higher than happy countries and they contribute positively to the Happiness score and rank of a country."
   ]
  }
 ],
 "metadata": {
  "kernelspec": {
   "display_name": "Python 3",
   "language": "python",
   "name": "python3"
  },
  "language_info": {
   "codemirror_mode": {
    "name": "ipython",
    "version": 3
   },
   "file_extension": ".py",
   "mimetype": "text/x-python",
   "name": "python",
   "nbconvert_exporter": "python",
   "pygments_lexer": "ipython3",
   "version": "3.8.8"
  }
 },
 "nbformat": 4,
 "nbformat_minor": 5
}
